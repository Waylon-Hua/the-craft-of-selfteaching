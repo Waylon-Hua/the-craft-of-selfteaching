{
 "cells": [
  {
   "cell_type": "markdown",
   "metadata": {},
   "source": [
    "# 关于参数（上）"
   ]
  },
  {
   "cell_type": "markdown",
   "metadata": {},
   "source": [
    "之前就提到过，从结构上来看，每个函数都是一个完整的程序，因为一个程序，核心构成部分就是输入、处理、输出：\n",
    "\n",
    "> * 它可以有**输入** —— 即，它能接收外部通过参数传递的值；\n",
    "> * 它可以有**处理** —— 即，内部有能够完成某一特定任务的代码；尤其是，它可以根据 “输入” 得到 “输出”；\n",
    "> * 它可以有**输出** —— 即，它能向外部输送返回值……\n",
    "\n",
    "所以，在我看来，有了一点基础知识之后，最早应该学习的是 “如何写函数” —— 这个起点会更好一些。\n",
    "\n",
    "这一章的内容，看起来会感觉与 [Part1.E.4 函数那一章](Part.1.E.4.functions.ipynb)部分重合。但这两章的出发点不一样：\n",
    "\n",
    "> * [Part1.E.4 函数那一章](Part.1.E.4.functions.ipynb)，只是为了让读者有 “阅读” 函数说明文档的能力；\n",
    "> * 这一章，是为了让读者能够开始动手写函数给自己或别人用……"
   ]
  },
  {
   "cell_type": "markdown",
   "metadata": {},
   "source": [
    "## 为函数取名"
   ]
  },
  {
   "cell_type": "markdown",
   "metadata": {},
   "source": [
    "哪怕一个函数内部什么都不干，它也得有个名字，然后名字后面要加上圆括号 `()`，以明示它是个函数，而不是某个变量。\n",
    "\n",
    "定义一个函数的关键字是 `def`，以下代码定义了一个什么都不干的函数："
   ]
  },
  {
   "cell_type": "code",
   "execution_count": 1,
   "metadata": {},
   "outputs": [],
   "source": [
    "def do_nothing():\n",
    "    pass\n",
    "\n",
    "do_nothing()"
   ]
  },
  {
   "cell_type": "markdown",
   "metadata": {},
   "source": [
    "为函数取名（为变量取名也一样）有些基本的注意事项：\n",
    "\n",
    "> - 首先，名称不能以数字开头。能用在名称开头的有，大小写字母和下划线 `_`；\n",
    "> \n",
    "> - 其次，名称中不能有空格，要么使用下划线连接词汇，如，`do_nothing`，要么使用 [Camel Case](https://en.wikipedia.org/wiki/Camel_case)，如 `doNothing` —— 更推荐使用下划线；\n",
    "> \n",
    "> - 再次，名称不能与关键字重合 —— 以下是 Python 的 Keyword List：\n",
    "\n",
    "|     -      | Python     | Keyword    | List       |     -      |\n",
    "| ---------- | ---------- | ---------- | ---------- | ---------- |\n",
    "| `and`      | `as`       | `assert`   | `async`    | `await`    |\n",
    "| `break`    | `class`    | `continue` | `def`      | `del`      |\n",
    "| `elif`     | `else`     | `except`   | `False`    | `finally`  |\n",
    "| `for`      | `from`     | `global`   | `if`       | `import`   |\n",
    "| `in`       | `is`       | `lambda`   | `None`     | `nonlocal` |\n",
    "| `not`      | `or`       | `pass`     | `raise`    | `return`   |\n",
    "| `True`     | `try`      | `while`    | `with`     | `yield`    |\n",
    "\n",
    "你随时可以用以下代码查询关键字列表："
   ]
  },
  {
   "cell_type": "code",
   "execution_count": 3,
   "metadata": {
    "scrolled": true
   },
   "outputs": [
    {
     "data": {
      "text/plain": [
       "['False',\n",
       " 'None',\n",
       " 'True',\n",
       " 'and',\n",
       " 'as',\n",
       " 'assert',\n",
       " 'async',\n",
       " 'await',\n",
       " 'break',\n",
       " 'class',\n",
       " 'continue',\n",
       " 'def',\n",
       " 'del',\n",
       " 'elif',\n",
       " 'else',\n",
       " 'except',\n",
       " 'finally',\n",
       " 'for',\n",
       " 'from',\n",
       " 'global',\n",
       " 'if',\n",
       " 'import',\n",
       " 'in',\n",
       " 'is',\n",
       " 'lambda',\n",
       " 'nonlocal',\n",
       " 'not',\n",
       " 'or',\n",
       " 'pass',\n",
       " 'raise',\n",
       " 'return',\n",
       " 'try',\n",
       " 'while',\n",
       " 'with',\n",
       " 'yield']"
      ]
     },
     "execution_count": 3,
     "metadata": {},
     "output_type": "execute_result"
    },
    {
     "data": {
      "text/plain": [
       "True"
      ]
     },
     "execution_count": 3,
     "metadata": {},
     "output_type": "execute_result"
    },
    {
     "data": {
      "text/plain": [
       "False"
      ]
     },
     "execution_count": 3,
     "metadata": {},
     "output_type": "execute_result"
    }
   ],
   "source": [
    "from IPython.core.interactiveshell import InteractiveShell\n",
    "InteractiveShell.ast_node_interactivity = \"all\"\n",
    "\n",
    "import keyword\n",
    "keyword.kwlist               # 列出所有关键字\n",
    "keyword.iskeyword('if')      # 查询某个词是不是关键字\n",
    "keyword.iskeyword('if_')      # 查询某个词是不是关键字"
   ]
  },
  {
   "cell_type": "markdown",
   "metadata": {},
   "source": [
    "关于更多为函数、变量取名所需要的注意事项，请参阅：\n",
    "\n",
    "> * [PEP 8 -- Style Guide for Python Code: Naming Conventions](https://www.python.org/dev/peps/pep-0008/#naming-conventions)\n",
    "> * [PEP 526 -- Syntax for Variable Annotations](https://www.python.org/dev/peps/pep-0526/)\n",
    ">\n",
    "> 注：PEPs，是 Python Enhancement Proposals 的缩写：https://www.python.org/dev/peps/"
   ]
  },
  {
   "cell_type": "markdown",
   "metadata": {},
   "source": [
    "## 不接收任何参数的函数"
   ]
  },
  {
   "cell_type": "markdown",
   "metadata": {},
   "source": [
    "在定义函数的时候，可以定义成不接收任何参数；但调用函数的时候，依然需要写上函数名后面的圆括号 `()`："
   ]
  },
  {
   "cell_type": "code",
   "execution_count": 3,
   "metadata": {},
   "outputs": [
    {
     "name": "stdout",
     "output_type": "stream",
     "text": [
      "This is a hello message from do_something().\n"
     ]
    }
   ],
   "source": [
    "def do_something():\n",
    "    print('This is a hello message from do_something().')\n",
    "\n",
    "do_something()"
   ]
  },
  {
   "cell_type": "markdown",
   "metadata": {},
   "source": [
    "## 没有 return 语句的函数"
   ]
  },
  {
   "cell_type": "markdown",
   "metadata": {},
   "source": [
    "函数内部，不一定非要有 `return` 语句 —— 上面 `do_somthing()` 函数就没有 `return` 语句。但如果函数内部并未定义返回值，那么，该函数的返回值是 `None`，当 `None` 被当作布尔值对待的时候，相当于是 `False`。\n",
    "\n",
    "这样的设定，使得函数调用总是可以在条件语句中被当作判断依据："
   ]
  },
  {
   "cell_type": "code",
   "execution_count": 4,
   "metadata": {},
   "outputs": [
    {
     "name": "stdout",
     "output_type": "stream",
     "text": [
      "This is a hello message from do_something().\n",
      "The return value of 'do_something()' is None.\n"
     ]
    }
   ],
   "source": [
    "def do_something():\n",
    "    print('This is a hello message from do_something().')\n",
    "\n",
    "if not do_something():                # 由于该函数名称的缘故，这一句代码的可读性很差……\n",
    "    print(\"The return value of 'do_something()' is None.\")"
   ]
  },
  {
   "cell_type": "code",
   "execution_count": 17,
   "metadata": {},
   "outputs": [
    {
     "name": "stdout",
     "output_type": "stream",
     "text": [
      "This is a hello message from do_something().\n",
      "The return value of 'do_something()' is not None.\n",
      "This is a hello message from do_something().\n",
      "The return value of 'do_something()' is: 123\n"
     ]
    }
   ],
   "source": [
    "def do_something2():\n",
    "    print('This is a hello message from do_something().')\n",
    "    a=123\n",
    "    return a\n",
    "\n",
    "if not do_something2():                # 由于该函数名称的缘故，这一句代码的可读性很差……\n",
    "    print(\"The return value of 'do_something()' is None.\")\n",
    "else:\n",
    "    print(\"The return value of 'do_something()' is not None.\")\n",
    "    a_result=do_something2()\n",
    "    print(f\"The return value of 'do_something()' is: {a_result}\")\n"
   ]
  },
  {
   "cell_type": "markdown",
   "metadata": {},
   "source": [
    "`if not do_something(): ` 翻译成自然语言，应该是，“如果 `do_something()` 的返回值是 ‘非真’，那么：……” "
   ]
  },
  {
   "cell_type": "markdown",
   "metadata": {},
   "source": [
    "## 接收外部传递进来的值"
   ]
  },
  {
   "cell_type": "markdown",
   "metadata": {},
   "source": [
    "让我们写个判断闰年年份的函数，取名为 `is_leap()`，它接收一个年份为参数，若是闰年，则返回 `True`，否则返回 `False`。\n",
    "\n",
    "根据闰年的定义：\n",
    "\n",
    "> * 年份应该是 4 的倍数；\n",
    "> * 年份能被 100 整除但不能被 400 整除的，不是闰年。\n",
    "\n",
    "所以，相当于要在能被 4 整除的年份中，排除那些能被 100 整除却不能被 400 整除的年份。"
   ]
  },
  {
   "cell_type": "code",
   "execution_count": 23,
   "metadata": {},
   "outputs": [
    {
     "name": "stdout",
     "output_type": "stream",
     "text": [
      "2000年True闰年\n"
     ]
    }
   ],
   "source": [
    "def is_leap(year):\n",
    "    leap= False\n",
    "    if(year % 4 == 0):\n",
    "        leap= True\n",
    "        if(year % 100 == 0 and year % 400 != 0):\n",
    "            leap =True\n",
    "    return leap\n",
    "year=2000\n",
    "print(f'{year}年{is_leap(2000)}闰年')"
   ]
  },
  {
   "cell_type": "code",
   "execution_count": 24,
   "metadata": {},
   "outputs": [
    {
     "name": "stdout",
     "output_type": "stream",
     "text": [
      "2000年True闰年\n"
     ]
    }
   ],
   "source": [
    "def is_leap(year):\n",
    "    leap= False\n",
    "    if(year % 4 == 0):\n",
    "        leap= True\n",
    "        if(year % 100 == 0 and year % 400 != 0):\n",
    "            leap =True\n",
    "    return leap\n",
    "year=2000\n",
    "print(f'{year}年{is_leap(2000)}闰年')"
   ]
  },
  {
   "cell_type": "code",
   "execution_count": 32,
   "metadata": {},
   "outputs": [
    {
     "name": "stdout",
     "output_type": "stream",
     "text": [
      "1～2200年，以下年份为闰年：\n",
      "4\t8\t12\t16\t20\t24\t28\t32\t36\t40\t44\t48\t52\t56\t60\t64\t68\t72\t76\t80\t84\t88\t92\t96\t100\t104\t108\t112\t116\t120\t124\t128\t132\t136\t140\t144\t148\t152\t156\t160\t164\t168\t172\t176\t180\t184\t188\t192\t196\t200\t204\t208\t212\t216\t220\t224\t228\t232\t236\t240\t244\t248\t252\t256\t260\t264\t268\t272\t276\t280\t284\t288\t292\t296\t300\t304\t308\t312\t316\t320\t324\t328\t332\t336\t340\t344\t348\t352\t356\t360\t364\t368\t372\t376\t380\t384\t388\t392\t396\t400\t404\t408\t412\t416\t420\t424\t428\t432\t436\t440\t444\t448\t452\t456\t460\t464\t468\t472\t476\t480\t484\t488\t492\t496\t500\t504\t508\t512\t516\t520\t524\t528\t532\t536\t540\t544\t548\t552\t556\t560\t564\t568\t572\t576\t580\t584\t588\t592\t596\t600\t604\t608\t612\t616\t620\t624\t628\t632\t636\t640\t644\t648\t652\t656\t660\t664\t668\t672\t676\t680\t684\t688\t692\t696\t700\t704\t708\t712\t716\t720\t724\t728\t732\t736\t740\t744\t748\t752\t756\t760\t764\t768\t772\t776\t780\t784\t788\t792\t796\t800\t804\t808\t812\t816\t820\t824\t828\t832\t836\t840\t844\t848\t852\t856\t860\t864\t868\t872\t876\t880\t884\t888\t892\t896\t900\t904\t908\t912\t916\t920\t924\t928\t932\t936\t940\t944\t948\t952\t956\t960\t964\t968\t972\t976\t980\t984\t988\t992\t996\t1000\t1004\t1008\t1012\t1016\t1020\t1024\t1028\t1032\t1036\t1040\t1044\t1048\t1052\t1056\t1060\t1064\t1068\t1072\t1076\t1080\t1084\t1088\t1092\t1096\t1100\t1104\t1108\t1112\t1116\t1120\t1124\t1128\t1132\t1136\t1140\t1144\t1148\t1152\t1156\t1160\t1164\t1168\t1172\t1176\t1180\t1184\t1188\t1192\t1196\t1200\t1204\t1208\t1212\t1216\t1220\t1224\t1228\t1232\t1236\t1240\t1244\t1248\t1252\t1256\t1260\t1264\t1268\t1272\t1276\t1280\t1284\t1288\t1292\t1296\t1300\t1304\t1308\t1312\t1316\t1320\t1324\t1328\t1332\t1336\t1340\t1344\t1348\t1352\t1356\t1360\t1364\t1368\t1372\t1376\t1380\t1384\t1388\t1392\t1396\t1400\t1404\t1408\t1412\t1416\t1420\t1424\t1428\t1432\t1436\t1440\t1444\t1448\t1452\t1456\t1460\t1464\t1468\t1472\t1476\t1480\t1484\t1488\t1492\t1496\t1500\t1504\t1508\t1512\t1516\t1520\t1524\t1528\t1532\t1536\t1540\t1544\t1548\t1552\t1556\t1560\t1564\t1568\t1572\t1576\t1580\t1584\t1588\t1592\t1596\t1600\t1604\t1608\t1612\t1616\t1620\t1624\t1628\t1632\t1636\t1640\t1644\t1648\t1652\t1656\t1660\t1664\t1668\t1672\t1676\t1680\t1684\t1688\t1692\t1696\t1700\t1704\t1708\t1712\t1716\t1720\t1724\t1728\t1732\t1736\t1740\t1744\t1748\t1752\t1756\t1760\t1764\t1768\t1772\t1776\t1780\t1784\t1788\t1792\t1796\t1800\t1804\t1808\t1812\t1816\t1820\t1824\t1828\t1832\t1836\t1840\t1844\t1848\t1852\t1856\t1860\t1864\t1868\t1872\t1876\t1880\t1884\t1888\t1892\t1896\t1900\t1904\t1908\t1912\t1916\t1920\t1924\t1928\t1932\t1936\t1940\t1944\t1948\t1952\t1956\t1960\t1964\t1968\t1972\t1976\t1980\t1984\t1988\t1992\t1996\t2000\t2004\t2008\t2012\t2016\t2020\t2024\t2028\t2032\t2036\t2040\t2044\t2048\t2052\t2056\t2060\t2064\t2068\t2072\t2076\t2080\t2084\t2088\t2092\t2096\t"
     ]
    }
   ],
   "source": [
    "def is_leap(year):\n",
    "    leap= False\n",
    "    if(year % 4 == 0):\n",
    "        leap= True\n",
    "        if(year % 100 == 0 and year % 400 != 0):\n",
    "            leap =True\n",
    "    return leap\n",
    "\n",
    "print('1～2200年，以下年份为闰年：')\n",
    "for year in range(1,2100):\n",
    "    if is_leap(year):\n",
    "        print(f'{year}',end='\\t')"
   ]
  },
  {
   "cell_type": "code",
   "execution_count": 12,
   "metadata": {},
   "outputs": [
    {
     "data": {
      "text/plain": [
       "False"
      ]
     },
     "execution_count": 12,
     "metadata": {},
     "output_type": "execute_result"
    },
    {
     "data": {
      "text/plain": [
       "True"
      ]
     },
     "execution_count": 12,
     "metadata": {},
     "output_type": "execute_result"
    },
    {
     "data": {
      "text/plain": [
       "False"
      ]
     },
     "execution_count": 12,
     "metadata": {},
     "output_type": "execute_result"
    },
    {
     "data": {
      "text/plain": [
       "True"
      ]
     },
     "execution_count": 12,
     "metadata": {},
     "output_type": "execute_result"
    }
   ],
   "source": [
    "def is_leap(year):\n",
    "    leap = False\n",
    "    if year % 4 == 0:\n",
    "        leap = True\n",
    "        if year % 100 == 0 and year % 400 != 0:\n",
    "            leap = False\n",
    "    return leap\n",
    "\n",
    "\n",
    "is_leap(7)\n",
    "is_leap(12)\n",
    "is_leap(100)\n",
    "is_leap(400)"
   ]
  },
  {
   "cell_type": "code",
   "execution_count": 6,
   "metadata": {},
   "outputs": [
    {
     "data": {
      "text/plain": [
       "False"
      ]
     },
     "execution_count": 6,
     "metadata": {},
     "output_type": "execute_result"
    }
   ],
   "source": [
    "# 另外一个更为简洁的版本，理解它还挺练脑子的\n",
    "# cpython/Lib/datetime.py\n",
    "def _is_leap(year):\n",
    "    return year % 4 == 0 and (year % 100 != 0 or year % 400 == 0)\n",
    "_is_leap(300)"
   ]
  },
  {
   "cell_type": "markdown",
   "metadata": {},
   "source": [
    "函数可以同时接收多个参数。比如，我们可以写个函数，让它输出从大于某个数字到小于另外一个数字的斐波那契数列；那就需要定义两个参数，调用它的时候也需要传递两个参数："
   ]
  },
  {
   "cell_type": "code",
   "execution_count": 59,
   "metadata": {},
   "outputs": [
    {
     "name": "stdout",
     "output_type": "stream",
     "text": [
      "144 / 233 / 377 / 610 / 987 / 1597 / 2584 / 4181 / 6765\n"
     ]
    }
   ],
   "source": [
    "def fib_between(start, end):\n",
    "    a,b=0,1\n",
    "    fib_list=[]\n",
    "    while a<end:\n",
    "        if a>=start:\n",
    "            fib_list.append(str(a))\n",
    "            #print(a,end='/')\n",
    "        a,b=b,a+b\n",
    "    fib_list_str= ' / '.join(fib_list)\n",
    "    print(fib_list_str)\n",
    "fib_between(100, 10000)"
   ]
  },
  {
   "cell_type": "code",
   "execution_count": 60,
   "metadata": {},
   "outputs": [
    {
     "data": {
      "text/plain": [
       "'144 / 233 / 377 / 610 / 987 / 1597 / 2584 / 4181 / 6765'"
      ]
     },
     "execution_count": 60,
     "metadata": {},
     "output_type": "execute_result"
    },
    {
     "name": "stdout",
     "output_type": "stream",
     "text": [
      "144 / 233 / 377 / 610 / 987 / 1597 / 2584 / 4181 / 6765\n"
     ]
    }
   ],
   "source": [
    "def fib_between(start, end):\n",
    "    a,b=0,1\n",
    "    fib_list=[]\n",
    "    while a<end:\n",
    "        if a>=start:\n",
    "            fib_list.append(str(a))\n",
    "        a,b=b,a+b\n",
    "    fib_list_str= ' / '.join(fib_list)\n",
    "    return fib_list_str\n",
    "    \n",
    "fib_between(100, 10000)\n",
    "print(fib_between(100, 10000))"
   ]
  },
  {
   "cell_type": "code",
   "execution_count": 7,
   "metadata": {},
   "outputs": [
    {
     "name": "stdout",
     "output_type": "stream",
     "text": [
      "144 233 377 610 987 1597 2584 4181 6765 "
     ]
    }
   ],
   "source": [
    "def fib_between(start, end):\n",
    "    a, b = 0, 1\n",
    "    while a < end:\n",
    "        if a >= start:\n",
    "            print(a, end=' ')\n",
    "        a, b = b, a + b\n",
    "        \n",
    "fib_between(100, 10000)"
   ]
  },
  {
   "cell_type": "markdown",
   "metadata": {},
   "source": [
    "当然可以把这个函数写成返回值是一个列表："
   ]
  },
  {
   "cell_type": "code",
   "execution_count": 8,
   "metadata": {},
   "outputs": [
    {
     "data": {
      "text/plain": [
       "[144, 233, 377, 610, 987, 1597, 2584, 4181, 6765]"
      ]
     },
     "execution_count": 8,
     "metadata": {},
     "output_type": "execute_result"
    }
   ],
   "source": [
    "def fib_between(start, end):\n",
    "    r = []\n",
    "    a, b = 0, 1\n",
    "    while a < end:\n",
    "        if a >= start:\n",
    "            r.append(a)\n",
    "        a, b = b, a + b\n",
    "    return r\n",
    "        \n",
    "fib_between(100, 10000)"
   ]
  },
  {
   "cell_type": "markdown",
   "metadata": {},
   "source": [
    "## 变量的作用域"
   ]
  },
  {
   "cell_type": "markdown",
   "metadata": {},
   "source": [
    "下面的代码，经常会让初学者迷惑："
   ]
  },
  {
   "cell_type": "code",
   "execution_count": 62,
   "metadata": {},
   "outputs": [
    {
     "name": "stdout",
     "output_type": "stream",
     "text": [
      "2\n",
      "1\n"
     ]
    }
   ],
   "source": [
    "def increase_one(n):\n",
    "    n += 1\n",
    "    return n\n",
    "\n",
    "n = 1\n",
    "print(increase_one(n))\n",
    "print(n)"
   ]
  },
  {
   "cell_type": "markdown",
   "metadata": {},
   "source": [
    "当 `increase_one(n)` 被调用之后，`n` 的值究竟是多少呢？或者更准确点问，随后的 `print(n)` 的输出结果应该是什么呢？\n",
    "\n",
    "输出结果是 `1`。\n",
    "\n",
    "在程序执行过程中，变量有**全局变量**（Global Variables）和**局域变量**（Local Variables）之分。\n",
    "\n",
    "> 首先，每次某个函数被调用的时候，这个函数会开辟一个新的区域，这个函数内部所有的变量，都是局域变量。也就是说，即便那个函数内部某个变量的名称与它外部的某个全局变量名称相同，它们也不是同一个变量 —— 只是名称相同而已。\n",
    "> \n",
    "> 其次，更为重要的是，当外部调用一个函数的时候，准确地讲，传递的不是变量，而是那个变量的*值*。也就是说，当 `increase_one(n)` 被调用的时候，被传递给那个恰好名称也叫 `n` 的局域变量的，是全局变量 `n` 的值，`1`。\n",
    "> \n",
    "> 而后，`increase_one()` 函数的代码开始执行，局域变量 `n` 经过 `n += 1` 之后，其中存储的值是 `2`，而后这个值被 `return` 语句返回，所以，`print(increase(n))` 所输出的值是函数被调用之后的返回值，即，`2`。\n",
    "> \n",
    "> 然而，全局变量 `n` 的值并没有被改变，因为局部变量 `n`（它的值是 `2`）和全局变量 `n`（它的值还是 `1`）只不过是名字相同而已，但它们并不是同一个变量。\n",
    "\n",
    "以上的文字，可能需要反复阅读若干遍；几遍下来，消除了疑惑，以后就彻底没问题了；若是这个疑惑并未消除，或者关键点并未消化，以后则会反复被这个疑惑所坑害，浪费无数时间。"
   ]
  },
  {
   "cell_type": "markdown",
   "metadata": {},
   "source": [
    "不过，有一种情况要格外注意 —— 在函数内部处理被传递进来的值是可变容器（比如，列表）的时候："
   ]
  },
  {
   "cell_type": "code",
   "execution_count": 19,
   "metadata": {},
   "outputs": [
    {
     "data": {
      "text/plain": [
       "(1, ['What?!', 2, 3])"
      ]
     },
     "execution_count": 19,
     "metadata": {},
     "output_type": "execute_result"
    }
   ],
   "source": [
    "def be_careful(a, b):\n",
    "    a = 2\n",
    "    b[0] = 'What?!'\n",
    "\n",
    "a = 1\n",
    "b = [1, 2, 3]\n",
    "be_careful(a, b)\n",
    "a, b"
   ]
  },
  {
   "cell_type": "code",
   "execution_count": 24,
   "metadata": {},
   "outputs": [
    {
     "data": {
      "text/plain": [
       "(1, ['What?!', 2, 3])"
      ]
     },
     "execution_count": 24,
     "metadata": {},
     "output_type": "execute_result"
    }
   ],
   "source": [
    "def be_careful(b, a):\n",
    "    a = 2\n",
    "    b[0] = 'What?!'\n",
    "\n",
    "a = 1\n",
    "b = [1, 2, 3]\n",
    "be_careful(b, a)\n",
    "a, b"
   ]
  },
  {
   "cell_type": "markdown",
   "metadata": {},
   "source": [
    "所以，一个比较好的习惯是，如果传递进来的值是列表，那么在函数内部对其操作之前，先创建一个它的拷贝："
   ]
  },
  {
   "cell_type": "code",
   "execution_count": 11,
   "metadata": {},
   "outputs": [
    {
     "data": {
      "text/plain": [
       "(1, [1, 2, 3])"
      ]
     },
     "execution_count": 11,
     "metadata": {},
     "output_type": "execute_result"
    }
   ],
   "source": [
    "def be_careful(a, b):\n",
    "    a = 2\n",
    "    b_copy = b.copy()\n",
    "    b_copy[0] = 'What?!'\n",
    "\n",
    "a = 1\n",
    "b = [1, 2, 3]\n",
    "be_careful(a, b)\n",
    "a, b"
   ]
  },
  {
   "cell_type": "markdown",
   "metadata": {},
   "source": [
    "<a href=\"./Part.2.D.2-aargs.ipynb\" ><small>Next Page</small></a>"
   ]
  }
 ],
 "metadata": {
  "kernelspec": {
   "display_name": "Python 3 (ipykernel)",
   "language": "python",
   "name": "python3"
  },
  "language_info": {
   "codemirror_mode": {
    "name": "ipython",
    "version": 3
   },
   "file_extension": ".py",
   "mimetype": "text/x-python",
   "name": "python",
   "nbconvert_exporter": "python",
   "pygments_lexer": "ipython3",
   "version": "3.10.11"
  },
  "toc-autonumbering": true
 },
 "nbformat": 4,
 "nbformat_minor": 4
}
